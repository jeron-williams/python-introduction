{
 "cells": [
  {
   "cell_type": "markdown",
   "id": "d48e3937-dba7-439e-9409-c134ebfe8273",
   "metadata": {},
   "source": [
    "Introduction to Python"
   ]
  },
  {
   "cell_type": "code",
   "execution_count": 3,
   "id": "cd60ff85-0311-4ecd-86b9-09c41485730a",
   "metadata": {},
   "outputs": [],
   "source": [
    "# variable num and value 3\n",
    "num=3"
   ]
  },
  {
   "cell_type": "code",
   "execution_count": 5,
   "id": "c2b0dd84-3da7-409b-bc14-fd4a97ebae6d",
   "metadata": {},
   "outputs": [
    {
     "data": {
      "text/plain": [
       "3"
      ]
     },
     "execution_count": 5,
     "metadata": {},
     "output_type": "execute_result"
    }
   ],
   "source": [
    "#running variable code\n",
    "num"
   ]
  },
  {
   "cell_type": "code",
   "execution_count": 9,
   "id": "005e2458-34b9-47fc-ae63-892f38fa8424",
   "metadata": {},
   "outputs": [
    {
     "data": {
      "text/plain": [
       "4"
      ]
     },
     "execution_count": 9,
     "metadata": {},
     "output_type": "execute_result"
    }
   ],
   "source": [
    "#This is a code block; code within a single box that runs line by line within the block\n",
    "num=4\n",
    "num"
   ]
  },
  {
   "cell_type": "code",
   "execution_count": 11,
   "id": "8514abda-8af2-439c-9cc8-c7065658e165",
   "metadata": {},
   "outputs": [
    {
     "data": {
      "text/plain": [
       "4"
      ]
     },
     "execution_count": 11,
     "metadata": {},
     "output_type": "execute_result"
    }
   ],
   "source": [
    "#This is a single line that runs only when you run the one code line when it is run\n",
    "num"
   ]
  },
  {
   "cell_type": "code",
   "execution_count": 13,
   "id": "d258bb8e-9b34-4896-9637-22a721208546",
   "metadata": {},
   "outputs": [],
   "source": [
    "# creating many variables at once with the same value\n",
    "#If you change the value it will change the value for all of the variables.\n",
    "x = y = z = 4"
   ]
  },
  {
   "cell_type": "code",
   "execution_count": 15,
   "id": "95ecc7d3-aff6-4d59-bcb9-d2c93c181a16",
   "metadata": {},
   "outputs": [
    {
     "data": {
      "text/plain": [
       "4"
      ]
     },
     "execution_count": 15,
     "metadata": {},
     "output_type": "execute_result"
    }
   ],
   "source": [
    "x"
   ]
  },
  {
   "cell_type": "code",
   "execution_count": 17,
   "id": "516edc28-c833-4714-a4b5-34aa1f83ae7d",
   "metadata": {},
   "outputs": [
    {
     "data": {
      "text/plain": [
       "4"
      ]
     },
     "execution_count": 17,
     "metadata": {},
     "output_type": "execute_result"
    }
   ],
   "source": [
    "y"
   ]
  },
  {
   "cell_type": "code",
   "execution_count": 19,
   "id": "e864a39d-236f-4723-b030-9580d4e70488",
   "metadata": {},
   "outputs": [
    {
     "data": {
      "text/plain": [
       "4"
      ]
     },
     "execution_count": 19,
     "metadata": {},
     "output_type": "execute_result"
    }
   ],
   "source": [
    "z"
   ]
  },
  {
   "cell_type": "markdown",
   "id": "736ab4ae-728b-4a3d-a93e-c7ab6891af4f",
   "metadata": {},
   "source": [
    "Updating variables and Strings"
   ]
  },
  {
   "cell_type": "code",
   "execution_count": 22,
   "id": "61a9787d-e34e-4211-a04b-aad50c7472fd",
   "metadata": {},
   "outputs": [],
   "source": [
    "#creating a string variable\n",
    "a = 'Great Learning'"
   ]
  },
  {
   "cell_type": "code",
   "execution_count": 24,
   "id": "73108068-41c0-4423-991e-300d5db8b814",
   "metadata": {},
   "outputs": [
    {
     "data": {
      "text/plain": [
       "'Great Learning'"
      ]
     },
     "execution_count": 24,
     "metadata": {},
     "output_type": "execute_result"
    }
   ],
   "source": [
    "#running variable a\n",
    "a"
   ]
  },
  {
   "cell_type": "code",
   "execution_count": 26,
   "id": "0a83a0b5-1d0f-4be9-9634-ac787472c9f9",
   "metadata": {},
   "outputs": [
    {
     "ename": "SyntaxError",
     "evalue": "invalid syntax (494713069.py, line 2)",
     "output_type": "error",
     "traceback": [
      "\u001b[1;36m  Cell \u001b[1;32mIn[26], line 2\u001b[1;36m\u001b[0m\n\u001b[1;33m    b = Great Learning\u001b[0m\n\u001b[1;37m              ^\u001b[0m\n\u001b[1;31mSyntaxError\u001b[0m\u001b[1;31m:\u001b[0m invalid syntax\n"
     ]
    }
   ],
   "source": [
    "#what happens when you create a string variable and run it without quotations; SyntaxError: Invalid syntax (a problem with the symbols and structure you are using)\n",
    "b = Great Learning\n",
    "b"
   ]
  },
  {
   "cell_type": "code",
   "execution_count": 28,
   "id": "330551d3-b77c-482c-afdf-c2b8d4b9a13c",
   "metadata": {},
   "outputs": [],
   "source": [
    "#simultaneous creation of variables a=first value, b=second value, c=third value\n",
    "a,b,c = 4,5,\"Great Learning\""
   ]
  },
  {
   "cell_type": "code",
   "execution_count": 30,
   "id": "16bf0b8a-05c2-45e4-baa3-b847554318b0",
   "metadata": {},
   "outputs": [
    {
     "data": {
      "text/plain": [
       "'Great Learning'"
      ]
     },
     "execution_count": 30,
     "metadata": {},
     "output_type": "execute_result"
    }
   ],
   "source": [
    "#When we run all these variables in the same block it will only provide the last variable and value it reads.\n",
    "a\n",
    "b\n",
    "c"
   ]
  },
  {
   "cell_type": "code",
   "execution_count": 32,
   "id": "08feb483-5e5f-4619-b6b7-e1c180d5c65d",
   "metadata": {},
   "outputs": [
    {
     "data": {
      "text/plain": [
       "4"
      ]
     },
     "execution_count": 32,
     "metadata": {},
     "output_type": "execute_result"
    }
   ],
   "source": [
    "a"
   ]
  },
  {
   "cell_type": "code",
   "execution_count": 34,
   "id": "e64b3f6a-fbd3-42ec-98e2-b8e6fec30a93",
   "metadata": {},
   "outputs": [
    {
     "data": {
      "text/plain": [
       "5"
      ]
     },
     "execution_count": 34,
     "metadata": {},
     "output_type": "execute_result"
    }
   ],
   "source": [
    "b"
   ]
  },
  {
   "cell_type": "code",
   "execution_count": 36,
   "id": "ea81bfe2-751a-4118-968a-ce3c4330e63c",
   "metadata": {},
   "outputs": [
    {
     "data": {
      "text/plain": [
       "'Great Learning'"
      ]
     },
     "execution_count": 36,
     "metadata": {},
     "output_type": "execute_result"
    }
   ],
   "source": [
    "c"
   ]
  },
  {
   "cell_type": "code",
   "execution_count": 46,
   "id": "c2692f7f-7a19-4caa-9c2e-104cd591174c",
   "metadata": {},
   "outputs": [],
   "source": [
    "#this udpdates variable 2 to variable 1. We can initialize the variable to a certain value but those values can get overridden with calculations that are done on them\n",
    "#in this example variable 2 was originally Arthur but we overrode it to become equal to variable 1.\n",
    "var1 = 25\n",
    "var2 = \"Arthur\"\n",
    "var2=var1"
   ]
  },
  {
   "cell_type": "code",
   "execution_count": 48,
   "id": "89c5599d-b7d2-4ae9-a5ab-ab6bd725bfe8",
   "metadata": {},
   "outputs": [
    {
     "data": {
      "text/plain": [
       "25"
      ]
     },
     "execution_count": 48,
     "metadata": {},
     "output_type": "execute_result"
    }
   ],
   "source": [
    "var2"
   ]
  },
  {
   "cell_type": "markdown",
   "id": "345716ca-44ad-4e56-9124-721fa672fd7a",
   "metadata": {},
   "source": [
    "Integer, Float, and Complex"
   ]
  },
  {
   "cell_type": "code",
   "execution_count": 53,
   "id": "43fa61af-4763-4514-bc4e-7536ee9bc1a8",
   "metadata": {},
   "outputs": [
    {
     "data": {
      "text/plain": [
       "5"
      ]
     },
     "execution_count": 53,
     "metadata": {},
     "output_type": "execute_result"
    }
   ],
   "source": [
    "a = 5\n",
    "a"
   ]
  },
  {
   "cell_type": "code",
   "execution_count": 55,
   "id": "3c768193-755b-4234-b5b3-d4dd11574831",
   "metadata": {},
   "outputs": [
    {
     "data": {
      "text/plain": [
       "int"
      ]
     },
     "execution_count": 55,
     "metadata": {},
     "output_type": "execute_result"
    }
   ],
   "source": [
    "#asking for the type of variable. type is a function (a little program that runs on other objects inside of Python)\n",
    "#The thing the function is running on is the thing in parentheses (probably called a parameter)\n",
    "type(a)"
   ]
  },
  {
   "cell_type": "code",
   "execution_count": 57,
   "id": "d9a708da-5b5f-4df5-89e7-31219034cf3b",
   "metadata": {},
   "outputs": [
    {
     "data": {
      "text/plain": [
       "1.1"
      ]
     },
     "execution_count": 57,
     "metadata": {},
     "output_type": "execute_result"
    }
   ],
   "source": [
    "#this is a floating point number. The floating point is the decimal and it can be anywhere in the number.\n",
    "a = 1.1\n",
    "a"
   ]
  },
  {
   "cell_type": "code",
   "execution_count": 59,
   "id": "3b8fa8ba-a538-4054-9f03-0653e66acf38",
   "metadata": {},
   "outputs": [
    {
     "data": {
      "text/plain": [
       "float"
      ]
     },
     "execution_count": 59,
     "metadata": {},
     "output_type": "execute_result"
    }
   ],
   "source": [
    "type(a)"
   ]
  },
  {
   "cell_type": "code",
   "execution_count": 65,
   "id": "989d0992-93e7-41e9-ba8f-217cf9d2c078",
   "metadata": {},
   "outputs": [
    {
     "data": {
      "text/plain": [
       "float"
      ]
     },
     "execution_count": 65,
     "metadata": {},
     "output_type": "execute_result"
    }
   ],
   "source": [
    "#this is the same value as the block below (16000) but one creates a floating point decimal and the other does not so they are different types.\n",
    "a = 1.6e4\n",
    "a\n",
    "type(a)"
   ]
  },
  {
   "cell_type": "code",
   "execution_count": 67,
   "id": "63e22936-64ff-4df9-a09a-909ba9d367c3",
   "metadata": {},
   "outputs": [
    {
     "data": {
      "text/plain": [
       "int"
      ]
     },
     "execution_count": 67,
     "metadata": {},
     "output_type": "execute_result"
    }
   ],
   "source": [
    "a = 16000\n",
    "a\n",
    "type(a)"
   ]
  },
  {
   "cell_type": "code",
   "execution_count": 69,
   "id": "a3beca41-dcbd-41ae-9ef5-fc106c7aeda5",
   "metadata": {},
   "outputs": [
    {
     "data": {
      "text/plain": [
       "(3+4j)"
      ]
     },
     "execution_count": 69,
     "metadata": {},
     "output_type": "execute_result"
    }
   ],
   "source": [
    "#complex numbers in Python\n",
    "#avoid i when naming variables, to include complex variables\n",
    "#complex numbers are not used often in data analysis. But in machine learning you may get complex values.\n",
    "x = 3+4j\n",
    "x"
   ]
  },
  {
   "cell_type": "code",
   "execution_count": 71,
   "id": "2b893266-a5c9-414f-9b3b-984d943140eb",
   "metadata": {},
   "outputs": [
    {
     "data": {
      "text/plain": [
       "complex"
      ]
     },
     "execution_count": 71,
     "metadata": {},
     "output_type": "execute_result"
    }
   ],
   "source": [
    "type(x)"
   ]
  },
  {
   "cell_type": "markdown",
   "id": "2d8a65af-9c20-42db-a5dc-a0d2e922f68c",
   "metadata": {},
   "source": [
    "Operations on Strings"
   ]
  },
  {
   "cell_type": "code",
   "execution_count": 78,
   "id": "0c0eba92-bb63-4812-b9be-d54691f6ecdc",
   "metadata": {},
   "outputs": [
    {
     "data": {
      "text/plain": [
       "'Great Learning'"
      ]
     },
     "execution_count": 78,
     "metadata": {},
     "output_type": "execute_result"
    }
   ],
   "source": [
    "#this is string concatonation\n",
    "#The \" \" in between the addition signs creates the space\n",
    "str1 = \"Great\"\n",
    "str2 = \"Learning\"\n",
    "str1 + \" \" + str2"
   ]
  },
  {
   "cell_type": "code",
   "execution_count": 80,
   "id": "38f96f22-0f84-4f98-b265-97b9975e2a25",
   "metadata": {},
   "outputs": [
    {
     "data": {
      "text/plain": [
       "'ACTGACTGACTGACTGACTGACTGACTGACTGACTGACTG'"
      ]
     },
     "execution_count": 80,
     "metadata": {},
     "output_type": "execute_result"
    }
   ],
   "source": [
    "#you can also order strings with multiplication\n",
    "#this code repeats ACTG 10 times\n",
    "str4 = \"ACTG\"\n",
    "str4*10"
   ]
  },
  {
   "cell_type": "code",
   "execution_count": 82,
   "id": "3f8ab746-0791-4653-951c-50f50adf0aa4",
   "metadata": {},
   "outputs": [
    {
     "data": {
      "text/plain": [
       "'C'"
      ]
     },
     "execution_count": 82,
     "metadata": {},
     "output_type": "execute_result"
    }
   ],
   "source": [
    "#this code gives me the second character in str4\n",
    "str4[1]"
   ]
  },
  {
   "cell_type": "code",
   "execution_count": 84,
   "id": "9d3ef52d-a058-4ff5-a255-464acc3a48f3",
   "metadata": {},
   "outputs": [
    {
     "data": {
      "text/plain": [
       "'T'"
      ]
     },
     "execution_count": 84,
     "metadata": {},
     "output_type": "execute_result"
    }
   ],
   "source": [
    "#this code gives me the second character starting at the end or right of the string. the negative is swhat accomplishes this\n",
    "str4[-2]"
   ]
  },
  {
   "cell_type": "code",
   "execution_count": 86,
   "id": "f1ddec06-d560-43b3-bd75-b3432c0ce1ed",
   "metadata": {},
   "outputs": [
    {
     "data": {
      "text/plain": [
       "'Gre'"
      ]
     },
     "execution_count": 86,
     "metadata": {},
     "output_type": "execute_result"
    }
   ],
   "source": [
    "#this will give me the first three characters of str1\n",
    "#square brackets indicate an index or location of an item\n",
    "#this code starts at the first character and ends at the third in what it reads or locates.\n",
    "str1[0:3]"
   ]
  },
  {
   "cell_type": "markdown",
   "id": "79f2fd77-9d77-4399-9f9e-d0c146420094",
   "metadata": {},
   "source": [
    "Boolean Data Type"
   ]
  },
  {
   "cell_type": "code",
   "execution_count": 91,
   "id": "4086bb31-3cd5-4b7e-a6d6-1873b435a105",
   "metadata": {},
   "outputs": [
    {
     "data": {
      "text/plain": [
       "bool"
      ]
     },
     "execution_count": 91,
     "metadata": {},
     "output_type": "execute_result"
    }
   ],
   "source": [
    "#this is a boolean value. This type is named after George bool. It is a logical yes or no or zero or one. In computing it is usually a True or a False\n",
    "#the green print means Jupyter recognizes this as something intrisic to Python; an assigned label\n",
    "var = True\n",
    "varF = False\n",
    "type(var)\n",
    "type(varF)"
   ]
  },
  {
   "cell_type": "code",
   "execution_count": 93,
   "id": "8af2f3dc-2682-48f2-944a-e9759ded8c39",
   "metadata": {},
   "outputs": [
    {
     "data": {
      "text/plain": [
       "True"
      ]
     },
     "execution_count": 93,
     "metadata": {},
     "output_type": "execute_result"
    }
   ],
   "source": [
    "#this is not a variable assignement but a calcualtion. If Python understands this then the answer will be a boolean\n",
    "#Booleans are very useful in exception handling\n",
    "10>9"
   ]
  },
  {
   "cell_type": "markdown",
   "id": "56d2a073-3b69-4b9f-a9f6-9f9b9e549016",
   "metadata": {},
   "source": [
    "Changing Data Types"
   ]
  },
  {
   "cell_type": "code",
   "execution_count": 96,
   "id": "8f3dc36d-3f87-428e-adc7-b6cf0951a129",
   "metadata": {},
   "outputs": [
    {
     "data": {
      "text/plain": [
       "int"
      ]
     },
     "execution_count": 96,
     "metadata": {},
     "output_type": "execute_result"
    }
   ],
   "source": [
    "type(11)"
   ]
  },
  {
   "cell_type": "code",
   "execution_count": 98,
   "id": "165a4b69-5889-4044-9314-1af9397adf0f",
   "metadata": {},
   "outputs": [
    {
     "data": {
      "text/plain": [
       "11.0"
      ]
     },
     "execution_count": 98,
     "metadata": {},
     "output_type": "execute_result"
    }
   ],
   "source": [
    "float(11)"
   ]
  },
  {
   "cell_type": "code",
   "execution_count": 100,
   "id": "60a2b562-4175-43d9-9d18-ed9c69aafeed",
   "metadata": {},
   "outputs": [
    {
     "data": {
      "text/plain": [
       "'11'"
      ]
     },
     "execution_count": 100,
     "metadata": {},
     "output_type": "execute_result"
    }
   ],
   "source": [
    "str(11)"
   ]
  },
  {
   "cell_type": "code",
   "execution_count": 102,
   "id": "f73d8b92-5ec3-41f6-9b74-651470f36eb9",
   "metadata": {},
   "outputs": [
    {
     "data": {
      "text/plain": [
       "False"
      ]
     },
     "execution_count": 102,
     "metadata": {},
     "output_type": "execute_result"
    }
   ],
   "source": [
    "bool(0)"
   ]
  },
  {
   "cell_type": "code",
   "execution_count": 104,
   "id": "587c4d88-6434-4d75-9e77-f40a5c5f11e3",
   "metadata": {},
   "outputs": [
    {
     "data": {
      "text/plain": [
       "True"
      ]
     },
     "execution_count": 104,
     "metadata": {},
     "output_type": "execute_result"
    }
   ],
   "source": [
    "bool(1)"
   ]
  },
  {
   "cell_type": "code",
   "execution_count": 106,
   "id": "8fb9f532-d61f-41ed-a289-3b8d140affda",
   "metadata": {},
   "outputs": [
    {
     "data": {
      "text/plain": [
       "11"
      ]
     },
     "execution_count": 106,
     "metadata": {},
     "output_type": "execute_result"
    }
   ],
   "source": [
    "#this returns the integer part of 11.7. It ignores the decimal part and returns the integer part.\n",
    "int(11.7)"
   ]
  },
  {
   "cell_type": "code",
   "execution_count": 108,
   "id": "ad2b9965-ba54-4ca3-9a3b-9fa22d2750bc",
   "metadata": {},
   "outputs": [
    {
     "data": {
      "text/plain": [
       "True"
      ]
     },
     "execution_count": 108,
     "metadata": {},
     "output_type": "execute_result"
    }
   ],
   "source": [
    "bool(3)"
   ]
  },
  {
   "cell_type": "code",
   "execution_count": 110,
   "id": "ca5a0891-44a0-440a-be01-2434df895f82",
   "metadata": {},
   "outputs": [
    {
     "ename": "ValueError",
     "evalue": "could not convert string to float: '13 start'",
     "output_type": "error",
     "traceback": [
      "\u001b[1;31m---------------------------------------------------------------------------\u001b[0m",
      "\u001b[1;31mValueError\u001b[0m                                Traceback (most recent call last)",
      "Cell \u001b[1;32mIn[110], line 1\u001b[0m\n\u001b[1;32m----> 1\u001b[0m \u001b[38;5;28mfloat\u001b[39m(\u001b[38;5;124m\"\u001b[39m\u001b[38;5;124m13 start\u001b[39m\u001b[38;5;124m\"\u001b[39m)\n",
      "\u001b[1;31mValueError\u001b[0m: could not convert string to float: '13 start'"
     ]
    }
   ],
   "source": [
    "float(\"13 start\")"
   ]
  },
  {
   "cell_type": "code",
   "execution_count": 112,
   "id": "525cd305-a458-44c3-bee8-9114d880799b",
   "metadata": {},
   "outputs": [
    {
     "data": {
      "text/plain": [
       "13.0"
      ]
     },
     "execution_count": 112,
     "metadata": {},
     "output_type": "execute_result"
    }
   ],
   "source": [
    "#As displayed by above, float only works on strings that contain numbers\n",
    "float(\"13\")"
   ]
  },
  {
   "cell_type": "markdown",
   "id": "f1f0174c-652e-4cbb-aefd-d74fd49b6346",
   "metadata": {},
   "source": [
    "Print Statement"
   ]
  },
  {
   "cell_type": "code",
   "execution_count": 115,
   "id": "6de610be-aadb-4687-a6bf-dbca2b703523",
   "metadata": {},
   "outputs": [
    {
     "name": "stdout",
     "output_type": "stream",
     "text": [
      "Hello World\n"
     ]
    }
   ],
   "source": [
    "#just placing the variable in the code will make it print.\n",
    "#you can also print with the print() function\n",
    "#in this function we are passing the argument \"Hello World\" to the function\n",
    "\n",
    "print(\"Hello World\")"
   ]
  },
  {
   "cell_type": "code",
   "execution_count": 123,
   "id": "0cfa3a1f-a76b-4e90-ab80-ea001c9aa377",
   "metadata": {},
   "outputs": [
    {
     "name": "stdout",
     "output_type": "stream",
     "text": [
      "x = 2\n"
     ]
    }
   ],
   "source": [
    "#in this print function we are passing two arguments to the function. (the string and the variable)\n",
    "#the variable value that is used is the most recent value assigned to the variable\n",
    "#The output does not discriminate, between what comes form the string or the variable. This helps when creating displays we create manual strings and force other outputs into the output display\n",
    "x = 2\n",
    "print(\"x =\", x)"
   ]
  },
  {
   "cell_type": "code",
   "execution_count": 129,
   "id": "8cbe527d-eb6c-4843-b098-01896f69b9c6",
   "metadata": {},
   "outputs": [
    {
     "name": "stdout",
     "output_type": "stream",
     "text": [
      "x = 7\n",
      "\n",
      "y = 9\n"
     ]
    }
   ],
   "source": [
    "#print is a persistent command and forces the printing of whatever argument is to be printed, irrespective of where it is in the line of code.\n",
    "#\\n is a carriage return and moves down a line. This is an example of excape sequence that introduces a uniqe display into the output\n",
    "#the space at the end of the equal sign after x creates a space\n",
    "x = 7\n",
    "y = 9\n",
    "print(\"x = \",x,end=\"\\n\\n\")\n",
    "print(\"y =\",y)"
   ]
  },
  {
   "cell_type": "markdown",
   "id": "e247f73a-5aea-498b-ac73-66b5b15053dc",
   "metadata": {},
   "source": [
    "User Input"
   ]
  },
  {
   "cell_type": "markdown",
   "id": "1651945e-39bc-4c6d-8062-84f2abd4a6ce",
   "metadata": {},
   "source": [
    "The Python input() function is usd to read data from a standard input such as a keyboard and treats the received data as a string. Basically, when we enter digit value, input() in Python 3 stores it as a string value. So to convert string value to integer value or float value etc. we will use the int() function and float() function respectively."
   ]
  },
  {
   "cell_type": "code",
   "execution_count": 9,
   "id": "53f9aa94-8eb1-47f9-b503-9793e260746c",
   "metadata": {},
   "outputs": [
    {
     "name": "stdin",
     "output_type": "stream",
     "text": [
      "please type in your age:  39\n"
     ]
    },
    {
     "name": "stdout",
     "output_type": "stream",
     "text": [
      "39\n"
     ]
    },
    {
     "data": {
      "text/plain": [
       "int"
      ]
     },
     "execution_count": 9,
     "metadata": {},
     "output_type": "execute_result"
    }
   ],
   "source": [
    "age = int(input(\"please type in your age: \"))\n",
    "print (age)\n",
    "type (age)"
   ]
  },
  {
   "cell_type": "code",
   "execution_count": 1,
   "id": "9aa547c3-91b7-41de-9d62-f4d47828bb97",
   "metadata": {},
   "outputs": [
    {
     "ename": "KeyboardInterrupt",
     "evalue": "Interrupted by user",
     "output_type": "error",
     "traceback": [
      "\u001b[1;31m---------------------------------------------------------------------------\u001b[0m",
      "\u001b[1;31mKeyboardInterrupt\u001b[0m                         Traceback (most recent call last)",
      "Cell \u001b[1;32mIn[1], line 1\u001b[0m\n\u001b[1;32m----> 1\u001b[0m groceryBill \u001b[38;5;241m=\u001b[39m \u001b[38;5;28mfloat\u001b[39m(\u001b[38;5;28minput\u001b[39m(\u001b[38;5;124m\"\u001b[39m\u001b[38;5;124mplease type in your last grocery bill: \u001b[39m\u001b[38;5;124m\"\u001b[39m))\n\u001b[0;32m      2\u001b[0m \u001b[38;5;28mprint\u001b[39m(groceryBill)\n\u001b[0;32m      3\u001b[0m \u001b[38;5;28mtype\u001b[39m(groceryBill)\n",
      "File \u001b[1;32m~\\anaconda3\\Lib\\site-packages\\ipykernel\\kernelbase.py:1262\u001b[0m, in \u001b[0;36mKernel.raw_input\u001b[1;34m(self, prompt)\u001b[0m\n\u001b[0;32m   1260\u001b[0m     msg \u001b[38;5;241m=\u001b[39m \u001b[38;5;124m\"\u001b[39m\u001b[38;5;124mraw_input was called, but this frontend does not support input requests.\u001b[39m\u001b[38;5;124m\"\u001b[39m\n\u001b[0;32m   1261\u001b[0m     \u001b[38;5;28;01mraise\u001b[39;00m StdinNotImplementedError(msg)\n\u001b[1;32m-> 1262\u001b[0m \u001b[38;5;28;01mreturn\u001b[39;00m \u001b[38;5;28mself\u001b[39m\u001b[38;5;241m.\u001b[39m_input_request(\n\u001b[0;32m   1263\u001b[0m     \u001b[38;5;28mstr\u001b[39m(prompt),\n\u001b[0;32m   1264\u001b[0m     \u001b[38;5;28mself\u001b[39m\u001b[38;5;241m.\u001b[39m_parent_ident[\u001b[38;5;124m\"\u001b[39m\u001b[38;5;124mshell\u001b[39m\u001b[38;5;124m\"\u001b[39m],\n\u001b[0;32m   1265\u001b[0m     \u001b[38;5;28mself\u001b[39m\u001b[38;5;241m.\u001b[39mget_parent(\u001b[38;5;124m\"\u001b[39m\u001b[38;5;124mshell\u001b[39m\u001b[38;5;124m\"\u001b[39m),\n\u001b[0;32m   1266\u001b[0m     password\u001b[38;5;241m=\u001b[39m\u001b[38;5;28;01mFalse\u001b[39;00m,\n\u001b[0;32m   1267\u001b[0m )\n",
      "File \u001b[1;32m~\\anaconda3\\Lib\\site-packages\\ipykernel\\kernelbase.py:1305\u001b[0m, in \u001b[0;36mKernel._input_request\u001b[1;34m(self, prompt, ident, parent, password)\u001b[0m\n\u001b[0;32m   1302\u001b[0m \u001b[38;5;28;01mexcept\u001b[39;00m \u001b[38;5;167;01mKeyboardInterrupt\u001b[39;00m:\n\u001b[0;32m   1303\u001b[0m     \u001b[38;5;66;03m# re-raise KeyboardInterrupt, to truncate traceback\u001b[39;00m\n\u001b[0;32m   1304\u001b[0m     msg \u001b[38;5;241m=\u001b[39m \u001b[38;5;124m\"\u001b[39m\u001b[38;5;124mInterrupted by user\u001b[39m\u001b[38;5;124m\"\u001b[39m\n\u001b[1;32m-> 1305\u001b[0m     \u001b[38;5;28;01mraise\u001b[39;00m \u001b[38;5;167;01mKeyboardInterrupt\u001b[39;00m(msg) \u001b[38;5;28;01mfrom\u001b[39;00m \u001b[38;5;28;01mNone\u001b[39;00m\n\u001b[0;32m   1306\u001b[0m \u001b[38;5;28;01mexcept\u001b[39;00m \u001b[38;5;167;01mException\u001b[39;00m:\n\u001b[0;32m   1307\u001b[0m     \u001b[38;5;28mself\u001b[39m\u001b[38;5;241m.\u001b[39mlog\u001b[38;5;241m.\u001b[39mwarning(\u001b[38;5;124m\"\u001b[39m\u001b[38;5;124mInvalid Message:\u001b[39m\u001b[38;5;124m\"\u001b[39m, exc_info\u001b[38;5;241m=\u001b[39m\u001b[38;5;28;01mTrue\u001b[39;00m)\n",
      "\u001b[1;31mKeyboardInterrupt\u001b[0m: Interrupted by user"
     ]
    }
   ],
   "source": [
    "groceryBill = float(input(\"please type in your last grocery bill: \"))\n",
    "print(groceryBill)\n",
    "type(groceryBill)"
   ]
  },
  {
   "cell_type": "code",
   "execution_count": 13,
   "id": "996ea369-2f31-41b1-ae6f-9e60398791eb",
   "metadata": {},
   "outputs": [
    {
     "name": "stdin",
     "output_type": "stream",
     "text": [
      "Please enter your name:  Jeron Williams\n"
     ]
    },
    {
     "name": "stdout",
     "output_type": "stream",
     "text": [
      "Jeron Williams\n"
     ]
    },
    {
     "data": {
      "text/plain": [
       "str"
      ]
     },
     "execution_count": 13,
     "metadata": {},
     "output_type": "execute_result"
    }
   ],
   "source": [
    "#the input function receives a string so you don't have to use a type cast function to change the value if the input field is going to be a string.\n",
    "name = input(\"Please enter your name: \")\n",
    "print(name)\n",
    "type(name)"
   ]
  },
  {
   "cell_type": "markdown",
   "id": "87a233a5-1e37-4726-898d-7133cca42947",
   "metadata": {},
   "source": [
    "### Python Operators"
   ]
  },
  {
   "cell_type": "markdown",
   "id": "410baa89-5973-4554-a98a-c12796244281",
   "metadata": {},
   "source": [
    "#### Arithmetic Operator"
   ]
  },
  {
   "cell_type": "markdown",
   "id": "f741e732-025c-45dd-87f7-019eab109563",
   "metadata": {},
   "source": [
    "Arithmetic operators are used to perform mathematical operations like addition, subtraction, multiplication, etc."
   ]
  },
  {
   "cell_type": "code",
   "execution_count": 9,
   "id": "3a7f0611-6388-41ab-9afc-54c85393b5bb",
   "metadata": {},
   "outputs": [
    {
     "name": "stdout",
     "output_type": "stream",
     "text": [
      "a + b=  13\n",
      "a * b=  30\n",
      "a - b=  7\n",
      "a / b=  3.3333333333333335\n",
      "a ** b=  1000\n",
      "a // b=  3\n",
      "a % b=  1\n"
     ]
    }
   ],
   "source": [
    "a = 10\n",
    "b = 3\n",
    "\n",
    "#the \" + \" symbol adds a & b together\n",
    "print(\"a + b= \", a+b)\n",
    "\n",
    "#the \" * \" symbol multiplies a & b together\n",
    "print(\"a * b= \", a*b)\n",
    "\n",
    "#the \" - \" symbol subtracts b from a\n",
    "print(\"a - b= \", a-b)\n",
    "\n",
    "#the \" / \" symbol diveds a by b\n",
    "print(\"a / b= \", a/b)\n",
    "\n",
    "#the \" ** \" symbol carries a to the power of b\n",
    "print(\"a ** b= \", a**b)\n",
    "\n",
    "#the \" // \" symbol diveds a by b and provides an integer value as a result\n",
    "print(\"a // b= \", a//b)\n",
    "\n",
    "#the modulus operator divides a by b and provides the remainder as the result\n",
    "print(\"a % b= \", a%b)"
   ]
  },
  {
   "cell_type": "markdown",
   "id": "7edd7512-b995-4522-9813-cca0f03cff6d",
   "metadata": {},
   "source": [
    "#### Comparison Operators "
   ]
  },
  {
   "cell_type": "markdown",
   "id": "88741c9a-528f-4afd-8df3-82b5514b20bb",
   "metadata": {},
   "source": [
    "Comparison operator carries out the comparison between operands. They tell us whether an operand is greater than the other, lesser, equal, or a combination of those. It returns a boolean value (i.e. True or False) based on the condition."
   ]
  },
  {
   "cell_type": "code",
   "execution_count": 15,
   "id": "1640895d-599e-4745-a139-e1cda7fc4b28",
   "metadata": {},
   "outputs": [
    {
     "name": "stdout",
     "output_type": "stream",
     "text": [
      "a == b=  False\n",
      "a != b=  True\n",
      "a < b=  False\n",
      "a > b=  True\n",
      "a >= b=  True\n",
      "a <= b=  False\n"
     ]
    }
   ],
   "source": [
    "a = 32\n",
    "b = 12\n",
    "\n",
    "#this is the equal to comparison operator. It evaluates equality in value not assignement, like the = sign does\n",
    "print(\"a == b= \", a==b)\n",
    "\n",
    "#not equal to\n",
    "print(\"a != b= \", a!=b)\n",
    "\n",
    "#less than\n",
    "print(\"a < b= \",a<b)\n",
    "\n",
    "#greater than\n",
    "print(\"a > b= \", a>b)\n",
    "\n",
    "#greater than or equal to\n",
    "print(\"a >= b= \", a>=b)\n",
    "\n",
    "#less than or equal to\n",
    "print(\"a <= b= \", a<=b)"
   ]
  },
  {
   "cell_type": "markdown",
   "id": "e0d7d6ff-8151-429d-9671-b6c0e3066d52",
   "metadata": {},
   "source": [
    "#### Assignment Operators"
   ]
  },
  {
   "cell_type": "markdown",
   "id": "c7453593-6515-4ce9-bc5a-6b8a53313115",
   "metadata": {},
   "source": [
    "The = value is an assignment operator. However, you can use the = assignment operator with something in front of it, like a +, -, *, /, etc. to change the original value of the variable. IN this way the value is manipulated before reassignment."
   ]
  },
  {
   "cell_type": "code",
   "execution_count": 9,
   "id": "0f566b2a-e3d1-4c33-8f1b-75bcdcb6268a",
   "metadata": {},
   "outputs": [
    {
     "name": "stdout",
     "output_type": "stream",
     "text": [
      "updated value after x += 3  9\n",
      "updated value after x -= 4  5\n",
      "updated value after x *= 8  40\n",
      "updated value after x /= 3  13.333333333333334\n"
     ]
    }
   ],
   "source": [
    "x = 6\n",
    "\n",
    "# the preceeding operators reassign a value to the x variable after performing an operation on it\n",
    "\n",
    "x += 3\n",
    "print(\"updated value after x += 3 \", x)\n",
    "\n",
    "x -= 4\n",
    "print(\"updated value after x -= 4 \", x)\n",
    "\n",
    "x *= 8\n",
    "print(\"updated value after x *= 8 \", x)\n",
    "\n",
    "x /= 3\n",
    "print(\"updated value after x /= 3 \", x)"
   ]
  },
  {
   "cell_type": "markdown",
   "id": "51255435-697e-4160-a00e-fe0da8dcc98c",
   "metadata": {},
   "source": [
    "#### Logical Operators"
   ]
  },
  {
   "cell_type": "markdown",
   "id": "efaf3ef4-9ac8-4380-8136-816a2184d182",
   "metadata": {},
   "source": [
    "Logical operators are like conjunctions that you can use to combine more than one condition. There are 3 Python logical operators, and, or, and not."
   ]
  },
  {
   "cell_type": "markdown",
   "id": "2c5d2178-6efa-4903-b65b-76a4f1049a1f",
   "metadata": {},
   "source": [
    "##### 'and operator' "
   ]
  },
  {
   "cell_type": "markdown",
   "id": "04c354b0-7719-4201-8582-566bb64f3d5a",
   "metadata": {},
   "source": [
    "if the condition on both sides of the and operator are /met, then the expression as a whole is true"
   ]
  },
  {
   "cell_type": "code",
   "execution_count": 22,
   "id": "25439e20-20c1-4641-ba7b-b260db7db216",
   "metadata": {},
   "outputs": [
    {
     "name": "stdout",
     "output_type": "stream",
     "text": [
      "True\n"
     ]
    }
   ],
   "source": [
    "# this is the and operator with both conditions met\n",
    "x = 12\n",
    "\n",
    "a =x > 11 and x < 20\n",
    "\n",
    "print(a)"
   ]
  },
  {
   "cell_type": "code",
   "execution_count": 24,
   "id": "97de1b7a-94bd-48de-8ba4-b18543f1120c",
   "metadata": {},
   "outputs": [
    {
     "name": "stdout",
     "output_type": "stream",
     "text": [
      "False\n"
     ]
    }
   ],
   "source": [
    "# this is the and operator with only one condition met\n",
    "x = 12\n",
    "\n",
    "a =x > 11 and x < 10\n",
    "\n",
    "print(a)"
   ]
  },
  {
   "cell_type": "markdown",
   "id": "7ecfe67b-2fd1-42e4-9a40-9b4bf4dbddd8",
   "metadata": {},
   "source": [
    "##### 'or' operator"
   ]
  },
  {
   "cell_type": "markdown",
   "id": "eaebc218-4456-4f8c-9998-881ab45aca4a",
   "metadata": {},
   "source": [
    "if either the conditions are met on one side of the or operator, then the expression as a whole is true"
   ]
  },
  {
   "cell_type": "code",
   "execution_count": 28,
   "id": "21e9ce40-c98e-4b21-a5c7-cfce77d18c47",
   "metadata": {},
   "outputs": [
    {
     "name": "stdout",
     "output_type": "stream",
     "text": [
      "True\n"
     ]
    }
   ],
   "source": [
    "# this is an example of one condition being met\n",
    "x = 15\n",
    "\n",
    "a = x > 15 or x < 17\n",
    "print(a)"
   ]
  },
  {
   "cell_type": "code",
   "execution_count": 32,
   "id": "96f60f3a-6294-43e5-9bdd-337c06b42b5c",
   "metadata": {},
   "outputs": [
    {
     "name": "stdout",
     "output_type": "stream",
     "text": [
      "False\n"
     ]
    }
   ],
   "source": [
    "# this is an example of neither condition being met\n",
    "a = x > 16 or x < 13\n",
    "print(a)"
   ]
  },
  {
   "cell_type": "markdown",
   "id": "67bd491b-172c-4a9d-ab5f-d1028bc7566e",
   "metadata": {},
   "source": [
    "#### Introduction to Lists "
   ]
  },
  {
   "cell_type": "markdown",
   "id": "780b7297-4203-4501-8b1d-dcb9aba1baa1",
   "metadata": {},
   "source": [
    "##### Constructing Lists"
   ]
  },
  {
   "cell_type": "markdown",
   "id": "c82d5676-67fb-45b9-83ca-f3c9a9d5e131",
   "metadata": {},
   "source": [
    "To create a list, use square brackets [] and seperate items with a comma. A list can be empty or contain nested elements. It can also contain any number of data types (i.e. integers, floats, strings, etc.)"
   ]
  },
  {
   "cell_type": "code",
   "execution_count": 37,
   "id": "fe4b4678-0a24-4332-81fc-bbd56fbd8cac",
   "metadata": {},
   "outputs": [
    {
     "name": "stdout",
     "output_type": "stream",
     "text": [
      "[]\n"
     ]
    }
   ],
   "source": [
    "# create an empty list\n",
    "\n",
    "empty_list = []\n",
    "print(empty_list)"
   ]
  },
  {
   "cell_type": "code",
   "execution_count": 39,
   "id": "27dfa396-5080-4e90-b924-fd3bd67980c5",
   "metadata": {},
   "outputs": [
    {
     "data": {
      "text/plain": [
       "[['AI', 'Machine Learning', 'Generative AI'], [42, 76, 34]]"
      ]
     },
     "execution_count": 39,
     "metadata": {},
     "output_type": "execute_result"
    }
   ],
   "source": [
    "# creating a nested list\n",
    "my_list = [[\"AI\", \"Machine Learning\", \"Generative AI\",], [42, 76, 34]]\n",
    "my_list"
   ]
  },
  {
   "cell_type": "markdown",
   "id": "d36e89eb-1d23-41d2-a308-97024c35c041",
   "metadata": {},
   "source": [
    "##### Accessing Elements in Lists "
   ]
  },
  {
   "cell_type": "markdown",
   "id": "8f06644d-efcc-4dfd-bd14-480674f2d863",
   "metadata": {},
   "source": [
    "You can access the list items by referring to the index number. THink of lists as super strings or strings of strings. In this way it helps relate that you can access list elements just as you access string elements."
   ]
  },
  {
   "cell_type": "markdown",
   "id": "20ddbee2-5b8f-4915-a6ed-b781badfbd99",
   "metadata": {},
   "source": [
    "###### Indexing"
   ]
  },
  {
   "cell_type": "markdown",
   "id": "0d8fa4c9-f7bd-4e6f-91a4-d06d9df9409c",
   "metadata": {},
   "source": [
    "We use the index operator []. We can access the list element by referring to its index number. All index numbers are integers and zero based."
   ]
  },
  {
   "cell_type": "code",
   "execution_count": 51,
   "id": "27c1ec5e-2ce8-416f-8a27-a6fa8971c0da",
   "metadata": {},
   "outputs": [
    {
     "name": "stdout",
     "output_type": "stream",
     "text": [
      "['Data Science', 'Machine Learning', 'Generative AI', 'HTML', 'Big Data']\n"
     ]
    }
   ],
   "source": [
    "# define a list\n",
    "\n",
    "course = [\"Data Science\", \"Machine Learning\", \"Generative AI\", \"HTML\", \"Big Data\"]\n",
    "print(course)"
   ]
  },
  {
   "cell_type": "code",
   "execution_count": 55,
   "id": "e3ca366d-d32d-4372-b491-9dea358feddd",
   "metadata": {},
   "outputs": [
    {
     "name": "stdout",
     "output_type": "stream",
     "text": [
      "Data Science\n",
      "Machine Learning\n"
     ]
    }
   ],
   "source": [
    "# accessing first and second elements in a list\n",
    "\n",
    "print(course[0])\n",
    "print(course[1])"
   ]
  },
  {
   "cell_type": "markdown",
   "id": "40144735-40ed-451d-82a6-7ff12f6f73c0",
   "metadata": {},
   "source": [
    "###### Negative Indexing"
   ]
  },
  {
   "cell_type": "code",
   "execution_count": 58,
   "id": "e4b5be6a-187b-4593-b4e2-43727b2fc90d",
   "metadata": {},
   "outputs": [
    {
     "name": "stdout",
     "output_type": "stream",
     "text": [
      "Big Data\n",
      "HTML\n"
     ]
    }
   ],
   "source": [
    "# accessing list items starting at the end of the list. NOTICE the list index starts from one when accessing list elements this way\n",
    "\n",
    "print(course[-1])\n",
    "print(course[-2])"
   ]
  },
  {
   "cell_type": "markdown",
   "id": "ade2fc50-abf1-43cf-8bef-f1fb47671216",
   "metadata": {},
   "source": [
    "##### Slicing Lists"
   ]
  },
  {
   "cell_type": "markdown",
   "id": "27c33d12-43db-40a3-8915-cb79ce5d1b90",
   "metadata": {},
   "source": [
    "Lists use the slicing operator : (colon) to extract part of a sequence"
   ]
  },
  {
   "cell_type": "code",
   "execution_count": 73,
   "id": "b77181ff-7d2e-4e09-94aa-42100af7b008",
   "metadata": {},
   "outputs": [
    {
     "name": "stdout",
     "output_type": "stream",
     "text": [
      "['Data Science', 'Machine Learning', 'Generative AI', 'HTML', 'Big Data']\n",
      "['Data Science', 'Machine Learning', 'Generative AI']\n",
      "['Machine Learning', 'Generative AI', 'HTML', 'Big Data']\n"
     ]
    }
   ],
   "source": [
    "# define a list\n",
    "\n",
    "course = [\"Data Science\", \"Machine Learning\", \"Generative AI\", \"HTML\", \"Big Data\"]\n",
    "\n",
    "# this prints the whole list\n",
    "print(course[:])\n",
    "\n",
    "# this prints the first three elements of the list\n",
    "print(course[:3])\n",
    "\n",
    "# this starts at the ssecond index of the list and then prints the rest of the list\n",
    "print(course[1:])"
   ]
  },
  {
   "cell_type": "markdown",
   "id": "00e7abf7-2cb7-4a51-a255-43efbed80741",
   "metadata": {},
   "source": [
    "If all three: start, stop, and step instructions are provided, the result will be an index starting point and ending point, with instructions for the jumps it is to make in the list."
   ]
  },
  {
   "cell_type": "code",
   "execution_count": 81,
   "id": "78f6fe40-ccaf-41cd-b6f0-f92c10b028ca",
   "metadata": {},
   "outputs": [
    {
     "name": "stdout",
     "output_type": "stream",
     "text": [
      "['Data Science', 'Generative AI']\n"
     ]
    }
   ],
   "source": [
    "# this prints the list course starting at the first index(first number) and going until the fourth (second number). It takes jumps of two (third number) in the indexed elements that it displays\n",
    "print(course[0:4:2])"
   ]
  },
  {
   "cell_type": "markdown",
   "id": "f9f5a964-b9d3-47d2-9cbc-87297f9645a8",
   "metadata": {},
   "source": [
    "##### Change Items in a List"
   ]
  },
  {
   "cell_type": "code",
   "execution_count": 86,
   "id": "59236a3e-41f4-4bf0-9b07-02c664eedb15",
   "metadata": {},
   "outputs": [
    {
     "data": {
      "text/plain": [
       "['Data Science', 'Machine Learning', 'Generative AI', 'Statistics', 'Big Data']"
      ]
     },
     "execution_count": 86,
     "metadata": {},
     "output_type": "execute_result"
    }
   ],
   "source": [
    "# this replaces list index number 3 (fourth item), which is HTML, with Statistics\n",
    "course[3] = \"Statistics\"\n",
    "course"
   ]
  },
  {
   "cell_type": "markdown",
   "id": "464de727-0276-47e4-82bc-e183cfe11fe3",
   "metadata": {},
   "source": [
    "##### List Methods "
   ]
  },
  {
   "cell_type": "markdown",
   "id": "d037f46a-9703-441b-9a46-e631e5c5d8ae",
   "metadata": {},
   "source": [
    "###### Methods in Python for list manipulation\n"
   ]
  },
  {
   "cell_type": "markdown",
   "id": "77096489-65dc-4609-a369-52023492e0f0",
   "metadata": {},
   "source": [
    "Python has a set of built-in methods that you can use on lists and arrays:<br>\n",
    "append()<br>\n",
    "insert()<br>\n",
    "extend()<br>\n",
    "del(not a method but an operator)<br>\n",
    "remove()<br>\n",
    "pop()<br>\n",
    "reverse()<br>"
   ]
  },
  {
   "cell_type": "markdown",
   "id": "284a949c-f650-4331-a61b-8ffbec188465",
   "metadata": {},
   "source": [
    "**list.append()**<br>\n",
    "This method will add an element at the end of the list. It is for creating a list of lists."
   ]
  },
  {
   "cell_type": "code",
   "execution_count": 186,
   "id": "20078935-f806-4c31-91c0-8a8623009571",
   "metadata": {},
   "outputs": [
    {
     "name": "stdout",
     "output_type": "stream",
     "text": [
      "['Biblical Studies', 'Apologetics', 'New Testament Survey', 'Old Testament Survey', ['Hermeneutics']]\n"
     ]
    }
   ],
   "source": [
    "# created original list\n",
    "course1 = [\"Biblical Studies\", \"Apologetics\", \"New Testament Survey\", \"Old Testament Survey\"]\n",
    "\n",
    "# created a new string variable to add to the list\n",
    "course2 = [\"Hermeneutics\"]\n",
    "\n",
    "# use the append method to add the new list (course2) to the end of course1 list. NOte \"Hermeneutics\" is now a nested list within the original list.\n",
    "course1.append(course2)\n",
    "print(course1)"
   ]
  },
  {
   "cell_type": "markdown",
   "id": "c553919a-b702-44cb-8ca6-5181ddc1929a",
   "metadata": {},
   "source": [
    "**list.insert()**<br>\n",
    "This method will insert an element at the index of the list that you direct it to"
   ]
  },
  {
   "cell_type": "code",
   "execution_count": 188,
   "id": "141615e2-04d7-450f-b915-e200d96d4eba",
   "metadata": {},
   "outputs": [
    {
     "name": "stdout",
     "output_type": "stream",
     "text": [
      "['Biblical Studies', 'Apologetics', 'Introduction to Biblical Greek', 'New Testament Survey', 'Old Testament Survey', ['Hermeneutics']]\n"
     ]
    }
   ],
   "source": [
    "# this inserts the second argument of the function into the third index of the list course1. It does not remove anything it only shifts everything to the right after insertion.\n",
    "course1.insert(2, 'Introduction to Biblical Greek')\n",
    "print(course1)"
   ]
  },
  {
   "cell_type": "markdown",
   "id": "f57e9771-1712-480d-a388-e992edfba3d0",
   "metadata": {},
   "source": [
    "**list.extend()**<br>\n",
    "This method concatonates a list"
   ]
  },
  {
   "cell_type": "code",
   "execution_count": 190,
   "id": "b0c966b6-e5df-496a-86ae-882b237a3ddc",
   "metadata": {},
   "outputs": [
    {
     "name": "stdout",
     "output_type": "stream",
     "text": [
      "['Biblical Studies', 'Apologetics', 'Introduction to Biblical Greek', 'New Testament Survey', 'Old Testament Survey', ['Hermeneutics'], 'Old Testament Survey', 'Intermediate Greek', 'Introduction to Philosophy of Religion']\n"
     ]
    }
   ],
   "source": [
    "course3 = [\"Old Testament Survey\", \"Intermediate Greek\", \"Introduction to Philosophy of Religion\"]\n",
    "\n",
    "# this concatonates course3 list to course1\n",
    "course1.extend(course3)\n",
    "print(course1)"
   ]
  },
  {
   "cell_type": "markdown",
   "id": "7eb3aa5c-609b-49c4-b77b-1bc365f9e2e6",
   "metadata": {},
   "source": [
    "**Deleting list elements**<br>\n",
    "Use the del keyword(non-method) to delete an item at a specific index"
   ]
  },
  {
   "cell_type": "code",
   "execution_count": 192,
   "id": "a76b9827-61e2-4b2b-be6e-c1ed21038925",
   "metadata": {},
   "outputs": [
    {
     "name": "stdout",
     "output_type": "stream",
     "text": [
      "['Apologetics', 'Introduction to Biblical Greek', 'New Testament Survey', 'Old Testament Survey', ['Hermeneutics'], 'Old Testament Survey', 'Intermediate Greek', 'Introduction to Philosophy of Religion']\n"
     ]
    }
   ],
   "source": [
    "# this deletes the first index of the list course1.\n",
    "del course1[0]\n",
    "print(course1)"
   ]
  },
  {
   "cell_type": "markdown",
   "id": "38fa29ce-b56e-44a5-8172-725ce91bfb8d",
   "metadata": {},
   "source": [
    "**list.remove(item)**<br>\n",
    "This will search for and remove only the first occurrence of an item"
   ]
  },
  {
   "cell_type": "code",
   "execution_count": 194,
   "id": "d5be9799-af8c-4e0e-a55b-50cb8672b13e",
   "metadata": {},
   "outputs": [
    {
     "name": "stdout",
     "output_type": "stream",
     "text": [
      "['Apologetics', 'Introduction to Biblical Greek', 'New Testament Survey', 'Old Testament Survey', ['Hermeneutics'], 'Old Testament Survey', 'Intermediate Greek', 'Introduction to Philosophy of Religion']\n",
      "['Apologetics', 'Introduction to Biblical Greek', 'New Testament Survey', ['Hermeneutics'], 'Old Testament Survey', 'Intermediate Greek', 'Introduction to Philosophy of Religion']\n"
     ]
    }
   ],
   "source": [
    "print(course1)\n",
    "\n",
    "# this found the first occurrence of \"Old Testament Survey\" and removed it from the list\n",
    "course1.remove(\"Old Testament Survey\")\n",
    "print(course1)"
   ]
  },
  {
   "cell_type": "markdown",
   "id": "2f0a2d89-5d2b-4328-83da-f15a4657b7d4",
   "metadata": {},
   "source": [
    "**list.pop()**<br>\n",
    "Removes and returns the last item of a list"
   ]
  },
  {
   "cell_type": "code",
   "execution_count": 198,
   "id": "af2e479e-da9a-48d3-a86a-15c5d177a7b5",
   "metadata": {},
   "outputs": [
    {
     "name": "stdout",
     "output_type": "stream",
     "text": [
      "['Apologetics', 'Introduction to Biblical Greek', 'New Testament Survey', ['Hermeneutics'], 'Old Testament Survey', 'Intermediate Greek', 'Introduction to Philosophy of Religion']\n"
     ]
    },
    {
     "data": {
      "text/plain": [
       "'Introduction to Philosophy of Religion'"
      ]
     },
     "execution_count": 198,
     "metadata": {},
     "output_type": "execute_result"
    }
   ],
   "source": [
    "#this removes the last item of a list and returns it. You can also insert an index number within the parentheses, without square brackets, and remove a specific index.\n",
    "print(course1)\n",
    "\n",
    "course1.pop()"
   ]
  },
  {
   "cell_type": "code",
   "execution_count": 200,
   "id": "c3234daf-23fd-487c-a336-2ee28a8b1c5d",
   "metadata": {},
   "outputs": [
    {
     "name": "stdout",
     "output_type": "stream",
     "text": [
      "['Apologetics', 'Introduction to Biblical Greek', 'New Testament Survey', ['Hermeneutics'], 'Old Testament Survey', 'Intermediate Greek']\n",
      "['Intermediate Greek', 'Old Testament Survey', ['Hermeneutics'], 'New Testament Survey', 'Introduction to Biblical Greek', 'Apologetics']\n"
     ]
    }
   ],
   "source": [
    "#this reverses the list from right to left\n",
    "\n",
    "print(course1)\n",
    "course1.reverse()\n",
    "print(course1)"
   ]
  },
  {
   "cell_type": "markdown",
   "id": "11056678-4dba-43e1-ab3a-ed49a20939e1",
   "metadata": {},
   "source": [
    "**Concatonation**<br>\n",
    "This adds two lists together"
   ]
  },
  {
   "cell_type": "code",
   "execution_count": 203,
   "id": "9dffdaef-b825-4dd7-b00a-66fb5814d66e",
   "metadata": {},
   "outputs": [
    {
     "data": {
      "text/plain": [
       "['Intermediate Greek',\n",
       " 'Old Testament Survey',\n",
       " ['Hermeneutics'],\n",
       " 'New Testament Survey',\n",
       " 'Introduction to Biblical Greek',\n",
       " 'Apologetics',\n",
       " 'Old Testament Survey',\n",
       " 'Intermediate Greek',\n",
       " 'Introduction to Philosophy of Religion']"
      ]
     },
     "execution_count": 203,
     "metadata": {},
     "output_type": "execute_result"
    }
   ],
   "source": [
    "# this just adds course1 and course3 together\n",
    "course1 + course3"
   ]
  },
  {
   "cell_type": "markdown",
   "id": "d74aa3dd-3e32-43e3-a3e4-7baf695879a5",
   "metadata": {},
   "source": [
    "**Repetition**<br>\n",
    "Uses the * operator to concatonate a list a repeated number of times"
   ]
  },
  {
   "cell_type": "code",
   "execution_count": 208,
   "id": "848972e5-ed00-4fcc-a559-c04f392e0a02",
   "metadata": {},
   "outputs": [
    {
     "data": {
      "text/plain": [
       "['Intermediate Greek',\n",
       " 'Old Testament Survey',\n",
       " ['Hermeneutics'],\n",
       " 'New Testament Survey',\n",
       " 'Introduction to Biblical Greek',\n",
       " 'Apologetics',\n",
       " 'Intermediate Greek',\n",
       " 'Old Testament Survey',\n",
       " ['Hermeneutics'],\n",
       " 'New Testament Survey',\n",
       " 'Introduction to Biblical Greek',\n",
       " 'Apologetics']"
      ]
     },
     "execution_count": 208,
     "metadata": {},
     "output_type": "execute_result"
    }
   ],
   "source": [
    "# this just adds the lists together however many times you request it\n",
    "course1 *2"
   ]
  },
  {
   "cell_type": "markdown",
   "id": "126fad62-ec38-4c20-a75c-c86044697d21",
   "metadata": {},
   "source": [
    "#### Conditional Statements"
   ]
  },
  {
   "cell_type": "markdown",
   "id": "926df896-01c7-4dd8-8594-a0cc3b74c1db",
   "metadata": {},
   "source": [
    "##### If Statements"
   ]
  },
  {
   "cell_type": "code",
   "execution_count": 217,
   "id": "f4633677-d5a2-44e5-a7bc-4918220f42de",
   "metadata": {},
   "outputs": [
    {
     "name": "stdout",
     "output_type": "stream",
     "text": [
      "The string Santa Maria is in the list\n"
     ]
    }
   ],
   "source": [
    "my_string = \"Santa Maria\"\n",
    "\n",
    "my_list = [\"Nina\", \"Pinta\", \"Santa Maria\"] \n",
    "\n",
    "# this if in statement creates a conditional statement that searches for \"Santa Maria\" inside a list and if it is in there prints the f string below\n",
    "if \"Santa Maria\" in my_list:\n",
    "        print(f\"The string {my_string} is in the list\")\n",
    "    "
   ]
  },
  {
   "cell_type": "code",
   "execution_count": 221,
   "id": "a1a6e068-3bf8-4524-bcd4-53c76aa04253",
   "metadata": {},
   "outputs": [],
   "source": [
    "# testing if an item is a member of a list with an if statement\n",
    "\n",
    "a_list = [\"one\", \"two\", \"three\", \"four\"]\n",
    "\n",
    "if \"one\" in a_list:\n",
    "    print(\"shonuff\")"
   ]
  },
  {
   "cell_type": "markdown",
   "id": "1f9970ce-ec62-43e9-b1e1-3cfa7ec86a0f",
   "metadata": {},
   "source": [
    "##### If Else Statements"
   ]
  },
  {
   "cell_type": "markdown",
   "id": "b18ca158-357f-494b-8d69-ddd922c9e846",
   "metadata": {},
   "source": [
    "This creates a conditional that has something like a default if the if part fo the condition is not met"
   ]
  },
  {
   "cell_type": "code",
   "execution_count": 245,
   "id": "4a1386b5-b71a-467f-a896-194d5e9dcd2a",
   "metadata": {},
   "outputs": [
    {
     "name": "stdout",
     "output_type": "stream",
     "text": [
      "130\n",
      "x is different than 130\n"
     ]
    }
   ],
   "source": [
    "x = 130\n",
    "print(x)\n",
    "if (x == 150):\n",
    "    print(f\"x is the same as {x}\")\n",
    "else:\n",
    "    print(f\"x is different than {x}\")"
   ]
  },
  {
   "cell_type": "code",
   "execution_count": 241,
   "id": "8f3fcf3a-fb78-4d83-967c-7a94f597ea1f",
   "metadata": {},
   "outputs": [
    {
     "name": "stdin",
     "output_type": "stream",
     "text": [
      "Please enter username jeron123\n",
      "Please enter password pessword\n"
     ]
    },
    {
     "name": "stdout",
     "output_type": "stream",
     "text": [
      "Check username or password\n"
     ]
    }
   ],
   "source": [
    "# this creates an if else statement with logic for a login\n",
    "string1 = str(input(\"Please enter username\"))\n",
    "string2 = str(input(\"Please enter password\"))\n",
    "\n",
    "if (string1 == \"jeron123\" and string2 == \"password\"):\n",
    "    print(\"User successfully logged in\")\n",
    "else:\n",
    "    print(\"Check username or password\")"
   ]
  },
  {
   "cell_type": "markdown",
   "id": "9c8526d9-f026-4329-a5a9-859ece291b46",
   "metadata": {},
   "source": [
    "##### if elif else statements"
   ]
  },
  {
   "cell_type": "markdown",
   "id": "2391b813-91fe-4a00-89db-b0875834f3df",
   "metadata": {},
   "source": [
    "This is used if there is more than just a this or that type of scenario; multiple conditions"
   ]
  },
  {
   "cell_type": "code",
   "execution_count": 257,
   "id": "88a0fa5e-f5ae-4897-8c34-b6c4cda2f9d2",
   "metadata": {},
   "outputs": [
    {
     "name": "stdout",
     "output_type": "stream",
     "text": [
      "y is equal to 20\n"
     ]
    }
   ],
   "source": [
    "# this if elif else statement creates an evaluation for a set of conditions with resepct to y\n",
    "y = 20\n",
    "\n",
    "if (y > 20):\n",
    "    print(\"y is greater than 20\")\n",
    "elif (y == 20):\n",
    "    print(\"y is equal to 20\")\n",
    "else:\n",
    "    print(\"y is less than 20\")"
   ]
  },
  {
   "cell_type": "code",
   "execution_count": 265,
   "id": "3e3ccf92-db11-420f-9e2d-9054e182b83d",
   "metadata": {},
   "outputs": [
    {
     "name": "stdin",
     "output_type": "stream",
     "text": [
      "enter a whole number -2\n"
     ]
    },
    {
     "name": "stdout",
     "output_type": "stream",
     "text": [
      "number is negative\n"
     ]
    }
   ],
   "source": [
    "# this if elif else statement checks to see if a number is greater than or equal to zero and nests an if else statement within an if statement\n",
    "\n",
    "num = float(input(\"enter a whole number\"))\n",
    "\n",
    "if (num >= 0):\n",
    "    if (num > 0):\n",
    "        print(\"number is greater than zero\")\n",
    "    else:\n",
    "        print(\"number is equal to zero\")\n",
    "else:\n",
    "    print(\"number is negative\")"
   ]
  },
  {
   "cell_type": "code",
   "execution_count": null,
   "id": "f9c4e358-3e05-417e-bd30-47c79dfb65d0",
   "metadata": {},
   "outputs": [],
   "source": []
  }
 ],
 "metadata": {
  "kernelspec": {
   "display_name": "Python 3 (ipykernel)",
   "language": "python",
   "name": "python3"
  },
  "language_info": {
   "codemirror_mode": {
    "name": "ipython",
    "version": 3
   },
   "file_extension": ".py",
   "mimetype": "text/x-python",
   "name": "python",
   "nbconvert_exporter": "python",
   "pygments_lexer": "ipython3",
   "version": "3.12.7"
  }
 },
 "nbformat": 4,
 "nbformat_minor": 5
}
